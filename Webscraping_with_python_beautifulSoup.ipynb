{
 "cells": [
  {
   "cell_type": "markdown",
   "metadata": {},
   "source": [
    "#First Web Scrapping Project\n",
    "# Done By : Shiv Ranjan Singh\n",
    "# Tata Technologies, Jamshedpur\n"
   ]
  },
  {
   "cell_type": "code",
   "execution_count": 74,
   "metadata": {},
   "outputs": [],
   "source": [
    "\n",
    "#import library for web scraping\n",
    "#requests library to read html page by providing url\n",
    "import requests\n",
    "#Beautifulsoup library is for extracting the data from html page\n",
    "from bs4 import BeautifulSoup\n",
    "# csv to write data to csv file\n",
    "import csv\n",
    "# provide page url to read \n",
    "URL = \"http://www.values.com/inspirational-quotes\"\n",
    "#reuests.get will read page and save it r varible\n",
    "r=requests.get(URL)\n",
    "#providing html content to beautifulsoup with the help of html5 parser\n",
    "soup=BeautifulSoup(r.content,'html5lib')\n",
    "#creating an array to store quotes\n",
    "quotes=[]\n",
    "#find the tag which you want to scrap from the page\n",
    "table=soup.findAll('div',attrs={'class':'col-6'})\n",
    "#print(table)\n",
    "#find the content and store it in an array defined above \n",
    "for row in soup.findAll('div',attrs={'class':'col-6'}): \n",
    "    quote = {} \n",
    "    quote['val']=row.img['alt']\n",
    "    quotes.append(quote)\n",
    "# print(quotes)\n",
    "filename = 'inspirational_quotes.csv'\n",
    "#this line will open the file for writing\n",
    "f = open(filename, 'w',newline = \"\")\n",
    "with open(filename, 'w',newline = \"\") as f:\n",
    "    w = csv.DictWriter(f,['val'])\n",
    "    w.writeheader()\n",
    "    for quote in quotes: \n",
    "        w.writerow(quote)"
   ]
  },
  {
   "cell_type": "code",
   "execution_count": null,
   "metadata": {},
   "outputs": [],
   "source": [
    "\n"
   ]
  },
  {
   "cell_type": "code",
   "execution_count": null,
   "metadata": {},
   "outputs": [],
   "source": []
  }
 ],
 "metadata": {
  "kernelspec": {
   "display_name": "Python 3",
   "language": "python",
   "name": "python3"
  },
  "language_info": {
   "codemirror_mode": {
    "name": "ipython",
    "version": 3
   },
   "file_extension": ".py",
   "mimetype": "text/x-python",
   "name": "python",
   "nbconvert_exporter": "python",
   "pygments_lexer": "ipython3",
   "version": "3.7.3"
  }
 },
 "nbformat": 4,
 "nbformat_minor": 2
}
